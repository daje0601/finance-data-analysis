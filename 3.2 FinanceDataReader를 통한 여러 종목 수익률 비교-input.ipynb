{
  "nbformat": 4,
  "nbformat_minor": 0,
  "metadata": {
    "colab": {
      "name": "2. FinanceDataReader를 통한 개별종목 수집하기.ipynb",
      "provenance": [],
      "collapsed_sections": []
    },
    "kernelspec": {
      "display_name": "Python 3",
      "language": "python",
      "name": "python3"
    },
    "language_info": {
      "codemirror_mode": {
        "name": "ipython",
        "version": 3
      },
      "file_extension": ".py",
      "mimetype": "text/x-python",
      "name": "python",
      "nbconvert_exporter": "python",
      "pygments_lexer": "ipython3",
      "version": "3.7.6"
    },
    "toc": {
      "base_numbering": 1,
      "nav_menu": {},
      "number_sections": true,
      "sideBar": true,
      "skip_h1_title": false,
      "title_cell": "Table of Contents",
      "title_sidebar": "Contents",
      "toc_cell": false,
      "toc_position": {
        "height": "calc(100% - 180px)",
        "left": "10px",
        "top": "150px",
        "width": "256px"
      },
      "toc_section_display": true,
      "toc_window_display": true
    },
    "varInspector": {
      "cols": {
        "lenName": 16,
        "lenType": 16,
        "lenVar": 40
      },
      "kernels_config": {
        "python": {
          "delete_cmd_postfix": "",
          "delete_cmd_prefix": "del ",
          "library": "var_list.py",
          "varRefreshCmd": "print(var_dic_list())"
        },
        "r": {
          "delete_cmd_postfix": ") ",
          "delete_cmd_prefix": "rm(",
          "library": "var_list.r",
          "varRefreshCmd": "cat(var_dic_list()) "
        }
      },
      "types_to_exclude": [
        "module",
        "function",
        "builtin_function_or_method",
        "instance",
        "_Feature"
      ],
      "window_display": false
    }
  },
  "cells": [
    {
      "cell_type": "markdown",
      "metadata": {
        "id": "JooJ7cGP5HMS"
      },
      "source": [
        "* **이번 노트북의 실습은 FinanceDataReader의 여러 종목 가격을 한번에** 자료를 참고하여 만들어 졌습니다.\n",
        "* 참고 링크 :  [FinanceDataReader 여러 종목 가격을 한번에](https://nbviewer.jupyter.org/github/FinanceData/FinanceDataReader/blob/master/tutorial/FinanceDataReader%20Tutorial%20-%20%EC%97%AC%EB%9F%AC%20%EC%A2%85%EB%AA%A9%EC%9D%98%20%EA%B0%80%EA%B2%A9%EC%9D%84%20%ED%95%9C%EB%B2%88%EC%97%90.ipynb)\n",
        "\n",
        "\n",
        "## 라이브러리 불러오기"
      ]
    },
    {
      "cell_type": "code",
      "metadata": {
        "id": "0HuA8Gtr5HMT"
      },
      "source": [
        "# 데이터 분석을 위해 pandas 불러오기\n",
        "import pandas as pd"
      ],
      "execution_count": 1,
      "outputs": []
    },
    {
      "cell_type": "markdown",
      "metadata": {
        "id": "yx1gbnsI5HMQ"
      },
      "source": [
        "* [FinanceData/FinanceDataReader: Financial data reader](https://github.com/FinanceData/FinanceDataReader)\n",
        "* [FinanceDataReader 사용자 안내서 | FinanceData](https://financedata.github.io/posts/finance-data-reader-users-guide.html)"
      ]
    },
    {
      "cell_type": "code",
      "metadata": {
        "id": "Szu-zewh5HMR",
        "outputId": "4a5caeff-689c-4628-fc0b-7e3c6596b378",
        "colab": {
          "base_uri": "https://localhost:8080/"
        }
      },
      "source": [
        "# colab 을 사용한다면 런타임이 초기화 될때마다 다시 설치해 주어야 합니다.\n",
        "# 로컬 컴퓨터에 설치했다면 이전에 설치된 라이브러리를 사용해 주시면 됩니다.\n",
        "!pip install -U finance-datareader"
      ],
      "execution_count": 5,
      "outputs": [
        {
          "output_type": "stream",
          "text": [
            "Collecting finance-datareader\n",
            "  Downloading https://files.pythonhosted.org/packages/79/aa/ca45a611033ac62ef8cad1272271a2c774647929bd0f65e91ca87f8dd36d/finance_datareader-0.9.14-py3-none-any.whl\n",
            "Collecting requests-file\n",
            "  Downloading https://files.pythonhosted.org/packages/77/86/cdb5e8eaed90796aa83a6d9f75cfbd37af553c47a291cd47bc410ef9bdb2/requests_file-1.5.1-py2.py3-none-any.whl\n",
            "Requirement already satisfied, skipping upgrade: pandas>=0.19.2 in /usr/local/lib/python3.6/dist-packages (from finance-datareader) (1.1.5)\n",
            "Requirement already satisfied, skipping upgrade: lxml in /usr/local/lib/python3.6/dist-packages (from finance-datareader) (4.2.6)\n",
            "Requirement already satisfied, skipping upgrade: requests>=2.3.0 in /usr/local/lib/python3.6/dist-packages (from finance-datareader) (2.23.0)\n",
            "Requirement already satisfied, skipping upgrade: tqdm in /usr/local/lib/python3.6/dist-packages (from finance-datareader) (4.41.1)\n",
            "Requirement already satisfied, skipping upgrade: six in /usr/local/lib/python3.6/dist-packages (from requests-file->finance-datareader) (1.15.0)\n",
            "Requirement already satisfied, skipping upgrade: python-dateutil>=2.7.3 in /usr/local/lib/python3.6/dist-packages (from pandas>=0.19.2->finance-datareader) (2.8.1)\n",
            "Requirement already satisfied, skipping upgrade: numpy>=1.15.4 in /usr/local/lib/python3.6/dist-packages (from pandas>=0.19.2->finance-datareader) (1.19.5)\n",
            "Requirement already satisfied, skipping upgrade: pytz>=2017.2 in /usr/local/lib/python3.6/dist-packages (from pandas>=0.19.2->finance-datareader) (2018.9)\n",
            "Requirement already satisfied, skipping upgrade: urllib3!=1.25.0,!=1.25.1,<1.26,>=1.21.1 in /usr/local/lib/python3.6/dist-packages (from requests>=2.3.0->finance-datareader) (1.24.3)\n",
            "Requirement already satisfied, skipping upgrade: idna<3,>=2.5 in /usr/local/lib/python3.6/dist-packages (from requests>=2.3.0->finance-datareader) (2.10)\n",
            "Requirement already satisfied, skipping upgrade: certifi>=2017.4.17 in /usr/local/lib/python3.6/dist-packages (from requests>=2.3.0->finance-datareader) (2020.12.5)\n",
            "Requirement already satisfied, skipping upgrade: chardet<4,>=3.0.2 in /usr/local/lib/python3.6/dist-packages (from requests>=2.3.0->finance-datareader) (3.0.4)\n",
            "Installing collected packages: requests-file, finance-datareader\n",
            "Successfully installed finance-datareader-0.9.14 requests-file-1.5.1\n"
          ],
          "name": "stdout"
        }
      ]
    },
    {
      "cell_type": "code",
      "metadata": {
        "id": "RmRqR4HT5HMT"
      },
      "source": [
        "# FinanceDataReader 를 fdr 별칭으로 불러오기\n",
        "import FinanceDataReader as fdr"
      ],
      "execution_count": 6,
      "outputs": []
    },
    {
      "cell_type": "markdown",
      "metadata": {
        "id": "h7T4gW_W-FmZ"
      },
      "source": [
        "## 상장종목 목록 가져오기"
      ]
    },
    {
      "cell_type": "code",
      "metadata": {
        "id": "gWgVQdSx5HMT",
        "outputId": "ca1d724a-acef-4f16-8711-fc1972de8db3",
        "colab": {
          "base_uri": "https://localhost:8080/"
        }
      },
      "source": [
        "# 불러올 종가의 목록 입니다.\n",
        "stock_dict = {\n",
        "    '삼성전자': '005930',\n",
        "    'SK하이닉스': '000660',\n",
        "    '현대차': '005380',\n",
        "    '셀트리온': '068270',\n",
        "    'LG화학': '051910',\n",
        "    'POSCO': '005490',\n",
        "    '삼성물산': '028260',\n",
        "    'NAVER': '035420'}\n",
        "stock_dict"
      ],
      "execution_count": 7,
      "outputs": [
        {
          "output_type": "execute_result",
          "data": {
            "text/plain": [
              "{'LG화학': '051910',\n",
              " 'NAVER': '035420',\n",
              " 'POSCO': '005490',\n",
              " 'SK하이닉스': '000660',\n",
              " '삼성물산': '028260',\n",
              " '삼성전자': '005930',\n",
              " '셀트리온': '068270',\n",
              " '현대차': '005380'}"
            ]
          },
          "metadata": {
            "tags": []
          },
          "execution_count": 7
        }
      ]
    },
    {
      "cell_type": "code",
      "metadata": {
        "id": "PasXnKYcmHs_",
        "outputId": "84566279-1067-48d2-95cc-fa364f806df2",
        "colab": {
          "base_uri": "https://localhost:8080/"
        }
      },
      "source": [
        "# stock_dict 변수의 타입을 봅니다.\n",
        "type(stock_dict)"
      ],
      "execution_count": 8,
      "outputs": [
        {
          "output_type": "execute_result",
          "data": {
            "text/plain": [
              "dict"
            ]
          },
          "metadata": {
            "tags": []
          },
          "execution_count": 8
        }
      ]
    },
    {
      "cell_type": "code",
      "metadata": {
        "id": "6mJbntK-mHs_",
        "outputId": "2abead3a-8d4f-4560-e30d-bf7f254b861d",
        "colab": {
          "base_uri": "https://localhost:8080/"
        }
      },
      "source": [
        "# dict 는 key:value 구조 입니다. key만 봅니다.\n",
        "stock_dict.keys()"
      ],
      "execution_count": 9,
      "outputs": [
        {
          "output_type": "execute_result",
          "data": {
            "text/plain": [
              "dict_keys(['삼성전자', 'SK하이닉스', '현대차', '셀트리온', 'LG화학', 'POSCO', '삼성물산', 'NAVER'])"
            ]
          },
          "metadata": {
            "tags": []
          },
          "execution_count": 9
        }
      ]
    },
    {
      "cell_type": "code",
      "metadata": {
        "id": "EV8YXRxemHtA",
        "outputId": "126ecedf-74b6-4db9-f1ab-2f4aa269b531",
        "colab": {
          "base_uri": "https://localhost:8080/"
        }
      },
      "source": [
        "# dict 는 key:value 구조 입니다. value만 봅니다.\n",
        "stock_dict.values()"
      ],
      "execution_count": 10,
      "outputs": [
        {
          "output_type": "execute_result",
          "data": {
            "text/plain": [
              "dict_values(['005930', '000660', '005380', '068270', '051910', '005490', '028260', '035420'])"
            ]
          },
          "metadata": {
            "tags": []
          },
          "execution_count": 10
        }
      ]
    },
    {
      "cell_type": "markdown",
      "metadata": {
        "id": "VNyU_0nM7gDr"
      },
      "source": [
        "## 여러 종목의 종가 수집\n",
        "* 종목코드로 수집이 가능합니다.\n",
        "* 종목명을 찾아서 일별 시세를 수집해 주는 함수를 만들어 볼 예정입니다."
      ]
    },
    {
      "cell_type": "code",
      "metadata": {
        "id": "MelN-CPamHtA"
      },
      "source": [
        "# 반복문을 사용하여 여러 종목의 종가를 수집합니다.\n",
        "item_list = []\n",
        "for item_code in stock_dict.values():\n",
        "  close = fdr.DataReader(item_code, \"2020\", \"2021\")[\"Close\"]\n",
        "  item_list.append(close)"
      ],
      "execution_count": 11,
      "outputs": []
    },
    {
      "cell_type": "code",
      "metadata": {
        "id": "fGXWni-TmHtA"
      },
      "source": [
        "item_list"
      ],
      "execution_count": null,
      "outputs": []
    },
    {
      "cell_type": "markdown",
      "metadata": {
        "id": "Q7LYPqKamHtA"
      },
      "source": [
        "### 하나의 데이터프레임으로 합치기\n",
        "\n",
        "\n",
        "* axis = 0\n",
        "\n",
        "<img src=\"https://pandas.pydata.org/docs/_images/merging_concat_basic.png\">\n",
        "\n",
        "* axis = 1 \n",
        "<img src=\"https://pandas.pydata.org/docs/_images/merging_concat_axis1.png\">\n",
        "\n",
        "* 결측치를 제외하기 join=\"inner\"\n",
        "<img src=\"https://pandas.pydata.org/docs/_images/merging_concat_axis1_inner.png\">\n",
        "\n",
        "\n",
        "* [Merge, join, concatenate and compare documentation](https://pandas.pydata.org/docs/user_guide/merging.html#merge-join-concatenate-and-compare)"
      ]
    },
    {
      "cell_type": "code",
      "metadata": {
        "id": "5HOVeXurmHtB",
        "outputId": "28b2015f-9ba7-42da-f2a8-d8364d1d00fe",
        "colab": {
          "base_uri": "https://localhost:8080/",
          "height": 450
        }
      },
      "source": [
        "# 수집한 리스트를 axis=1(컬럼)을 기준으로 병합(concat) 합니다.\n",
        "# 이 때, 컬럼은 stock_dict 의 key 값을 사용합니다.\n",
        "df = pd.concat(item_list, axis=1)\n",
        "df.columns = stock_dict.keys()\n",
        "df"
      ],
      "execution_count": 13,
      "outputs": [
        {
          "output_type": "execute_result",
          "data": {
            "text/html": [
              "<div>\n",
              "<style scoped>\n",
              "    .dataframe tbody tr th:only-of-type {\n",
              "        vertical-align: middle;\n",
              "    }\n",
              "\n",
              "    .dataframe tbody tr th {\n",
              "        vertical-align: top;\n",
              "    }\n",
              "\n",
              "    .dataframe thead th {\n",
              "        text-align: right;\n",
              "    }\n",
              "</style>\n",
              "<table border=\"1\" class=\"dataframe\">\n",
              "  <thead>\n",
              "    <tr style=\"text-align: right;\">\n",
              "      <th></th>\n",
              "      <th>삼성전자</th>\n",
              "      <th>SK하이닉스</th>\n",
              "      <th>현대차</th>\n",
              "      <th>셀트리온</th>\n",
              "      <th>LG화학</th>\n",
              "      <th>POSCO</th>\n",
              "      <th>삼성물산</th>\n",
              "      <th>NAVER</th>\n",
              "    </tr>\n",
              "    <tr>\n",
              "      <th>Date</th>\n",
              "      <th></th>\n",
              "      <th></th>\n",
              "      <th></th>\n",
              "      <th></th>\n",
              "      <th></th>\n",
              "      <th></th>\n",
              "      <th></th>\n",
              "      <th></th>\n",
              "    </tr>\n",
              "  </thead>\n",
              "  <tbody>\n",
              "    <tr>\n",
              "      <th>2020-01-02</th>\n",
              "      <td>55200</td>\n",
              "      <td>94700</td>\n",
              "      <td>118000</td>\n",
              "      <td>176762</td>\n",
              "      <td>314000</td>\n",
              "      <td>236000</td>\n",
              "      <td>107500</td>\n",
              "      <td>182500</td>\n",
              "    </tr>\n",
              "    <tr>\n",
              "      <th>2020-01-03</th>\n",
              "      <td>55500</td>\n",
              "      <td>94500</td>\n",
              "      <td>116000</td>\n",
              "      <td>174307</td>\n",
              "      <td>311000</td>\n",
              "      <td>237000</td>\n",
              "      <td>107500</td>\n",
              "      <td>181500</td>\n",
              "    </tr>\n",
              "    <tr>\n",
              "      <th>2020-01-06</th>\n",
              "      <td>55500</td>\n",
              "      <td>94300</td>\n",
              "      <td>116000</td>\n",
              "      <td>169888</td>\n",
              "      <td>307000</td>\n",
              "      <td>231000</td>\n",
              "      <td>106000</td>\n",
              "      <td>180500</td>\n",
              "    </tr>\n",
              "    <tr>\n",
              "      <th>2020-01-07</th>\n",
              "      <td>55800</td>\n",
              "      <td>94000</td>\n",
              "      <td>115500</td>\n",
              "      <td>174798</td>\n",
              "      <td>311000</td>\n",
              "      <td>232000</td>\n",
              "      <td>108000</td>\n",
              "      <td>187000</td>\n",
              "    </tr>\n",
              "    <tr>\n",
              "      <th>2020-01-08</th>\n",
              "      <td>56800</td>\n",
              "      <td>97400</td>\n",
              "      <td>112000</td>\n",
              "      <td>169888</td>\n",
              "      <td>302000</td>\n",
              "      <td>228000</td>\n",
              "      <td>105000</td>\n",
              "      <td>183000</td>\n",
              "    </tr>\n",
              "    <tr>\n",
              "      <th>...</th>\n",
              "      <td>...</td>\n",
              "      <td>...</td>\n",
              "      <td>...</td>\n",
              "      <td>...</td>\n",
              "      <td>...</td>\n",
              "      <td>...</td>\n",
              "      <td>...</td>\n",
              "      <td>...</td>\n",
              "    </tr>\n",
              "    <tr>\n",
              "      <th>2020-12-23</th>\n",
              "      <td>73900</td>\n",
              "      <td>116000</td>\n",
              "      <td>185000</td>\n",
              "      <td>348613</td>\n",
              "      <td>806000</td>\n",
              "      <td>267500</td>\n",
              "      <td>137000</td>\n",
              "      <td>284000</td>\n",
              "    </tr>\n",
              "    <tr>\n",
              "      <th>2020-12-24</th>\n",
              "      <td>77800</td>\n",
              "      <td>118000</td>\n",
              "      <td>187000</td>\n",
              "      <td>341248</td>\n",
              "      <td>818000</td>\n",
              "      <td>271000</td>\n",
              "      <td>139000</td>\n",
              "      <td>282000</td>\n",
              "    </tr>\n",
              "    <tr>\n",
              "      <th>2020-12-28</th>\n",
              "      <td>78700</td>\n",
              "      <td>115500</td>\n",
              "      <td>189500</td>\n",
              "      <td>327500</td>\n",
              "      <td>814000</td>\n",
              "      <td>273500</td>\n",
              "      <td>140000</td>\n",
              "      <td>281000</td>\n",
              "    </tr>\n",
              "    <tr>\n",
              "      <th>2020-12-29</th>\n",
              "      <td>78300</td>\n",
              "      <td>116000</td>\n",
              "      <td>190500</td>\n",
              "      <td>360500</td>\n",
              "      <td>813000</td>\n",
              "      <td>270000</td>\n",
              "      <td>136500</td>\n",
              "      <td>283000</td>\n",
              "    </tr>\n",
              "    <tr>\n",
              "      <th>2020-12-30</th>\n",
              "      <td>81000</td>\n",
              "      <td>118500</td>\n",
              "      <td>192000</td>\n",
              "      <td>359000</td>\n",
              "      <td>824000</td>\n",
              "      <td>272000</td>\n",
              "      <td>138000</td>\n",
              "      <td>292500</td>\n",
              "    </tr>\n",
              "  </tbody>\n",
              "</table>\n",
              "<p>248 rows × 8 columns</p>\n",
              "</div>"
            ],
            "text/plain": [
              "             삼성전자  SK하이닉스     현대차    셀트리온    LG화학   POSCO    삼성물산   NAVER\n",
              "Date                                                                     \n",
              "2020-01-02  55200   94700  118000  176762  314000  236000  107500  182500\n",
              "2020-01-03  55500   94500  116000  174307  311000  237000  107500  181500\n",
              "2020-01-06  55500   94300  116000  169888  307000  231000  106000  180500\n",
              "2020-01-07  55800   94000  115500  174798  311000  232000  108000  187000\n",
              "2020-01-08  56800   97400  112000  169888  302000  228000  105000  183000\n",
              "...           ...     ...     ...     ...     ...     ...     ...     ...\n",
              "2020-12-23  73900  116000  185000  348613  806000  267500  137000  284000\n",
              "2020-12-24  77800  118000  187000  341248  818000  271000  139000  282000\n",
              "2020-12-28  78700  115500  189500  327500  814000  273500  140000  281000\n",
              "2020-12-29  78300  116000  190500  360500  813000  270000  136500  283000\n",
              "2020-12-30  81000  118500  192000  359000  824000  272000  138000  292500\n",
              "\n",
              "[248 rows x 8 columns]"
            ]
          },
          "metadata": {
            "tags": []
          },
          "execution_count": 13
        }
      ]
    },
    {
      "cell_type": "markdown",
      "metadata": {
        "id": "b0G_7u19mHtB"
      },
      "source": [
        "### 시각화를 위한 폰트 설정"
      ]
    },
    {
      "cell_type": "code",
      "metadata": {
        "id": "2mODiIwBmHtB"
      },
      "source": [
        "def get_font_family():\n",
        "    \"\"\"\n",
        "    시스템 환경에 따른 기본 폰트명을 반환하는 함수\n",
        "    \"\"\"\n",
        "    import platform\n",
        "    system_name = platform.system()\n",
        "    # colab 사용자는 system_name이 'Linux'로 확인\n",
        "\n",
        "    if system_name == \"Darwin\" :\n",
        "        font_family = \"AppleGothic\"\n",
        "    elif system_name == \"Windows\":\n",
        "        font_family = \"Malgun Gothic\"\n",
        "    else:\n",
        "        # Linux\n",
        "        # colab에서는 runtime을 <꼭> 재시작 해야합니다.\n",
        "        # 런타임을 재시작 하지 않고 폰트 설치를 하면 기본 설정 폰트가 로드되어 한글이 깨집니다.\n",
        "        !apt-get update -qq\n",
        "        !apt-get install fonts-nanum -qq  > /dev/null\n",
        "\n",
        "        import matplotlib.font_manager as fm\n",
        "\n",
        "        fontpath = '/usr/share/fonts/truetype/nanum/NanumBarunGothic.ttf'\n",
        "        font = fm.FontProperties(fname=fontpath, size=9)\n",
        "        fm._rebuild()\n",
        "        font_family = \"NanumBarunGothic\"\n",
        "    return font_family"
      ],
      "execution_count": null,
      "outputs": []
    },
    {
      "cell_type": "markdown",
      "metadata": {
        "id": "X8Y8NaOBmHtB"
      },
      "source": [
        "* 그래프의 다양한 style 설정 : [Customizing Matplotlib with style sheets and rcParams — Matplotlib documentation](https://matplotlib.org/3.3.3/tutorials/introductory/customizing.html)"
      ]
    },
    {
      "cell_type": "code",
      "metadata": {
        "id": "1GpIWT3-mHtB"
      },
      "source": [
        ""
      ],
      "execution_count": null,
      "outputs": []
    },
    {
      "cell_type": "code",
      "metadata": {
        "id": "nzJ_tzM1mHtB"
      },
      "source": [
        "# 시각화를 위한 폰트설정\n",
        "\n",
        "# 위에서 만든 함수를 통해 시스템 폰트를 불러와서 font_family 라는 변수에 할당\n",
        "\n",
        "# 폰트설정\n",
        "\n",
        "# 마이너스폰트 설정\n",
        "\n",
        "# 그래프 스타일 설정\n",
        "\n",
        "\n",
        "# 그래프에 retina display 적용\n"
      ],
      "execution_count": null,
      "outputs": []
    },
    {
      "cell_type": "code",
      "metadata": {
        "id": "u_7fyLUOmHtC"
      },
      "source": [
        "# 한글폰트 확인\n"
      ],
      "execution_count": null,
      "outputs": []
    },
    {
      "cell_type": "markdown",
      "metadata": {
        "id": "wy2sTbsImHtC"
      },
      "source": [
        "## 여러 종목 한번에 시각화 하기"
      ]
    },
    {
      "cell_type": "code",
      "metadata": {
        "id": "RakU9sc_5HMU"
      },
      "source": [
        "# 판다스의 plot을 통한 전체 데이터 프레임 시각화\n"
      ],
      "execution_count": null,
      "outputs": []
    },
    {
      "cell_type": "code",
      "metadata": {
        "id": "W4cgzFyW5HMU"
      },
      "source": [
        "# 2개의 종목 비교하기 : \"삼성전자\", \"LG화학\" 을 plot으로 시각화 합니다.\n"
      ],
      "execution_count": null,
      "outputs": []
    },
    {
      "cell_type": "markdown",
      "metadata": {
        "id": "TUJXE76WmHtC"
      },
      "source": [
        "## 2축 그래프 사용하기"
      ]
    },
    {
      "cell_type": "code",
      "metadata": {
        "id": "8HutZ7qL5HMU"
      },
      "source": [
        "# secondary_y를 사용해 2축 그래프 그리기\n"
      ],
      "execution_count": null,
      "outputs": []
    },
    {
      "cell_type": "markdown",
      "metadata": {
        "id": "f4zuRMmCmHtD"
      },
      "source": [
        "## 기간 수익률 비교하기\n",
        "* 가격마다 스케일이 다르기 때문에 데이터프레임 기준 첫날을 0으로 맞추고 상대적으로 상승했는지 하락했는지에 대한 값을 구합니다.\n",
        "* 다른 스케일 값의 상승/하락 비율을 비교해 볼 수 있도록 합니다.\n",
        "* 다른 스케일의 값을 조정할 때 표준화 혹은 정규화 방법을 사용하기도 합니다.\n",
        "    * 표준화(standardization) : \n",
        "        * 데이터가 평균으로 부터 얼마나 떨어져 있는지 나타내는 값으로 변환\n",
        "        * (Z-score 표준화) : (측정값 - 평균) / 표준편차\n",
        "    * 정규화(normalization) : \n",
        "        * 데이터의 상대적 크기에 대한 영향을 줄이기 위해 0~1로 변환\n",
        "        * (측정값 - 최소값) / (최대값 - 최소값)"
      ]
    },
    {
      "cell_type": "code",
      "metadata": {
        "id": "ZhJe9uDn5HMU"
      },
      "source": [
        "# df2 변수에 'LG화학', '삼성전자' 만 따로 가져옵니다.\n",
        "# 첫번째 날 가격으로 나머지 가격을 나눠주고 -1을 해주면 수익률을 구할 수 있습니다.\n",
        "# df_plot 에 수익률을 담아줍니다.\n"
      ],
      "execution_count": null,
      "outputs": []
    },
    {
      "cell_type": "code",
      "metadata": {
        "id": "r-LJIF8PmHtD"
      },
      "source": [
        "# 수익률 시각화 하기\n"
      ],
      "execution_count": null,
      "outputs": []
    },
    {
      "cell_type": "markdown",
      "metadata": {
        "id": "-Cy6ImnOmHtD"
      },
      "source": [
        "## pyplot의 subplots 로 서브플롯 그리기"
      ]
    },
    {
      "cell_type": "code",
      "metadata": {
        "id": "iaZe190WmHtD"
      },
      "source": [
        "# pyplot의 subplots로 2개의 서브플롯을 만들고 2축그래프와 수익률 그래프를 비교해 봅니다.\n",
        "\n"
      ],
      "execution_count": null,
      "outputs": []
    },
    {
      "cell_type": "code",
      "metadata": {
        "id": "q7_omJvemHtD"
      },
      "source": [
        "# df_plot 데이터프레임을 통해 수익률의 분포를 histogram으로 시각화 합니다.\n"
      ],
      "execution_count": null,
      "outputs": []
    },
    {
      "cell_type": "markdown",
      "metadata": {
        "id": "KtkhOgdpmHtE"
      },
      "source": [
        "## 전체 데이터프레임 값에 대한 수익률 계산하기"
      ]
    },
    {
      "cell_type": "code",
      "metadata": {
        "id": "fgYSX4MPmHtE"
      },
      "source": [
        "# 첫번째 날 가격으로 나머지 가격을 나눠주고 -1을 해주면 수익률을 구할 수 있습니다.\n"
      ],
      "execution_count": null,
      "outputs": []
    },
    {
      "cell_type": "markdown",
      "metadata": {
        "id": "k_WnZYwNmHtE"
      },
      "source": [
        "### 전체 종목의 수익률 시각화"
      ]
    },
    {
      "cell_type": "code",
      "metadata": {
        "id": "qDua2nNcmHtE"
      },
      "source": [
        "# df_norm 변수에 담긴 전체 종목에 대한 수익률을 시각화 합니다.\n"
      ],
      "execution_count": null,
      "outputs": []
    },
    {
      "cell_type": "code",
      "metadata": {
        "id": "brDX5uqRmHtE"
      },
      "source": [
        "# 계산된 수익률에 대한 기술통계값 구하기\n"
      ],
      "execution_count": null,
      "outputs": []
    },
    {
      "cell_type": "code",
      "metadata": {
        "id": "1A94kQBkmHtE"
      },
      "source": [
        "# 수익률에 대한 히스토그램 그리기\n"
      ],
      "execution_count": null,
      "outputs": []
    },
    {
      "cell_type": "markdown",
      "metadata": {
        "id": "D8hZ8IdKmHtF"
      },
      "source": [
        "## 왜도와 첨도\n",
        "\n",
        "* 히스토그램의 분포를 추정해서 밀도추정곡선을 그리기도 합니다.\n",
        "* 여기에서는 왜도와 첨도를 구해 각 종목의 수익률 분포를 수치화된 데이터로 구해봅니다.\n",
        "\n",
        "### 왜도\n",
        "<img src=\"https://upload.wikimedia.org/wikipedia/commons/thumb/f/f8/Negative_and_positive_skew_diagrams_%28English%29.svg/700px-Negative_and_positive_skew_diagrams_%28English%29.svg.png\" width=\"600\">\n",
        "\n",
        "\n",
        "\n",
        "<img src=\"https://upload.wikimedia.org/wikipedia/commons/c/cc/Relationship_between_mean_and_median_under_different_skewness.png\" width=\"600\">\n",
        "\n",
        "\n",
        "* 비대칭도(非對稱度, skewness) 또는 왜도(歪度)는 실수 값 확률 변수의 확률 분포 비대칭성을 나타내는 지표이다. 왜도의 값은 양수나 음수가 될 수 있으며 정의되지 않을 수도 있다. \n",
        "    * 왜도가 음수일 경우에는 확률밀도함수의 왼쪽 부분에 긴 꼬리를 가지며 중앙값을 포함한 자료가 오른쪽에 더 많이 분포해 있다. \n",
        "    * 왜도가 양수일 때는 확률밀도함수의 오른쪽 부분에 긴 꼬리를 가지며 자료가 왼쪽에 더 많이 분포해 있다는 것을 나타낸다. \n",
        "    * 평균과 중앙값이 같으면 왜도는 0이 된다.\n",
        "    \n",
        "* 출처 : [비대칭도 - 위키백과, 우리 모두의 백과사전](https://ko.wikipedia.org/wiki/%EB%B9%84%EB%8C%80%EC%B9%AD%EB%8F%84)"
      ]
    },
    {
      "cell_type": "code",
      "metadata": {
        "id": "3nVJgDxRmHtF"
      },
      "source": [
        "# skew 로 수익률의 왜도를 구합니다.\n"
      ],
      "execution_count": null,
      "outputs": []
    },
    {
      "cell_type": "markdown",
      "metadata": {
        "id": "lqiBU3kxmHtF"
      },
      "source": [
        "### 첨도\n",
        "\n",
        "<img src=\"https://upload.wikimedia.org/wikipedia/commons/thumb/3/33/Standard_symmetric_pdfs.svg/1920px-Standard_symmetric_pdfs.svg.png\" width=\"200\">\n",
        "\n",
        "* 첨도(尖度, 영어: kurtosis 커토시스)는 확률분포의 뾰족한 정도를 나타내는 척도이다. 관측치들이 어느 정도 집중적으로 중심에 몰려 있는가를 측정할 때 사용된다. \n",
        "    * 첨도값(K)이 3에 가까우면 산포도가 정규분포에 가깝다. \n",
        "    * 3보다 작을 경우에는(K<3) 정규분포보다 더 완만하게 납작한 분포로 판단할 수 있으며, \n",
        "    * 첨도값이 3보다 큰 양수이면(K>3) 산포는 정규분포보다 더 뾰족한 분포로 생각할 수 있다.\n",
        "\n",
        "* 출처 : [첨도 - 위키백과, 우리 모두의 백과사전](https://ko.wikipedia.org/wiki/%EC%B2%A8%EB%8F%84)"
      ]
    },
    {
      "cell_type": "code",
      "metadata": {
        "id": "bAR9D5emmHtF"
      },
      "source": [
        "# kurt 로 첨도를 구합니다.\n"
      ],
      "execution_count": null,
      "outputs": []
    },
    {
      "cell_type": "code",
      "metadata": {
        "id": "kBigKYQBmHtF"
      },
      "source": [
        ""
      ],
      "execution_count": null,
      "outputs": []
    }
  ]
}